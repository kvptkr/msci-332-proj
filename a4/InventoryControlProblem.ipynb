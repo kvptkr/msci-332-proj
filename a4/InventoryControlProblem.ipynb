{
 "cells": [
  {
   "cell_type": "code",
   "execution_count": 18,
   "metadata": {
    "scrolled": false
   },
   "outputs": [
    {
     "name": "stdout",
     "output_type": "stream",
     "text": [
      "Optimal cost is 16.0\n",
      "Production amounts: 4 0 4 0 "
     ]
    }
   ],
   "source": [
    "import random\n",
    "\n",
    "random.seed(6975)\n",
    "\n",
    "# T\n",
    "stages             = 4\n",
    "inventoryCapacity  = 4\n",
    "productionCapacity = 5\n",
    "\n",
    "setupCost    = 3.0\n",
    "variableCost = 1.0\n",
    "holdingRate  = 0.5\n",
    "\n",
    "\n",
    "demand = [-1000,2,2,2,2]    # The zero-th entry is unused here\n",
    "\n",
    "#for i in range(stages):\n",
    " #   demand.append(random.randint(0,20))\n",
    "    \n",
    "\n",
    "orderAmount = [[0 for i in range(inventoryCapacity+1)] for j in range(stages+1)]\n",
    "f = [[0 for i in range(inventoryCapacity+1)] for j in range(stages+2)]\n",
    "\n",
    "for t in range(stages,0,-1) :\n",
    "\n",
    "    for i in range(inventoryCapacity + 1) :\n",
    "  \n",
    "        # minProduction = max(0, demand[t] - i)\n",
    "        minProduction = max(0, demand[t] - i)\n",
    "        maxProduction = min(productionCapacity, inventoryCapacity - i + demand[t])\n",
    "    \n",
    "        value = float(\"inf\")\n",
    "\n",
    "        for p in range(minProduction, maxProduction+1):\n",
    "            productionCost = holdingCost = 0    \n",
    "            \n",
    "            surplus = i + p - demand[t]\n",
    "            \n",
    "            holdingCost += holdingRate*surplus\n",
    "            \n",
    "            productionCost = variableCost*p\n",
    "            \n",
    "            if p > 0:\n",
    "                productionCost += setupCost\n",
    "\n",
    "            moveValue = holdingCost + productionCost + f[t+1][surplus]\n",
    "\n",
    "            if moveValue < value :\n",
    "                value = moveValue\n",
    "                bestMove = p\n",
    "      \n",
    "        f[t][i] = value\n",
    "        orderAmount[t][i] = bestMove\n",
    "\n",
    "print(f\"Optimal cost is {f[1][0]}\")\n",
    "\n",
    "print(\"Production amounts: \", end='')\n",
    "\n",
    "# Setting i to 0 initially because the problem starts with 0 inventory\n",
    "i = 0\n",
    "for t in range(1,stages+1) :\n",
    "    print(f\"{orderAmount[t][i]} \", end='')\n",
    "    i = i + orderAmount[t][i] - demand[t]"
   ]
  },
  {
   "cell_type": "code",
   "execution_count": null,
   "metadata": {},
   "outputs": [],
   "source": []
  },
  {
   "cell_type": "code",
   "execution_count": null,
   "metadata": {},
   "outputs": [],
   "source": []
  },
  {
   "cell_type": "code",
   "execution_count": null,
   "metadata": {},
   "outputs": [],
   "source": []
  }
 ],
 "metadata": {
  "kernelspec": {
   "display_name": "Python 3",
   "language": "python",
   "name": "python3"
  },
  "language_info": {
   "codemirror_mode": {
    "name": "ipython",
    "version": 3
   },
   "file_extension": ".py",
   "mimetype": "text/x-python",
   "name": "python",
   "nbconvert_exporter": "python",
   "pygments_lexer": "ipython3",
   "version": "3.8.3"
  }
 },
 "nbformat": 4,
 "nbformat_minor": 4
}
