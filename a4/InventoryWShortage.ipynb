{
 "cells": [
  {
   "cell_type": "code",
   "execution_count": 5,
   "metadata": {
    "scrolled": false
   },
   "outputs": [
    {
     "ename": "TypeError",
     "evalue": "random() takes no arguments (2 given)",
     "output_type": "error",
     "traceback": [
      "\u001b[0;31m---------------------------------------------------------------------------\u001b[0m",
      "\u001b[0;31mTypeError\u001b[0m                                 Traceback (most recent call last)",
      "\u001b[0;32m<ipython-input-5-c13aa0f60692>\u001b[0m in \u001b[0;36m<module>\u001b[0;34m\u001b[0m\n\u001b[1;32m     10\u001b[0m \u001b[0;34m\u001b[0m\u001b[0m\n\u001b[1;32m     11\u001b[0m \u001b[0msetupCost\u001b[0m    \u001b[0;34m=\u001b[0m \u001b[0;36m3.0\u001b[0m\u001b[0;34m\u001b[0m\u001b[0;34m\u001b[0m\u001b[0m\n\u001b[0;32m---> 12\u001b[0;31m \u001b[0mvariableCost\u001b[0m \u001b[0;34m=\u001b[0m \u001b[0mrandom\u001b[0m\u001b[0;34m.\u001b[0m\u001b[0mrandom\u001b[0m\u001b[0;34m(\u001b[0m\u001b[0;36m10\u001b[0m\u001b[0;34m,\u001b[0m\u001b[0;36m20\u001b[0m\u001b[0;34m)\u001b[0m\u001b[0;34m\u001b[0m\u001b[0;34m\u001b[0m\u001b[0m\n\u001b[0m\u001b[1;32m     13\u001b[0m \u001b[0mholdingRate\u001b[0m  \u001b[0;34m=\u001b[0m \u001b[0;36m0.5\u001b[0m\u001b[0;34m\u001b[0m\u001b[0;34m\u001b[0m\u001b[0m\n\u001b[1;32m     14\u001b[0m \u001b[0mshortageRate\u001b[0m \u001b[0;34m=\u001b[0m \u001b[0;36m2.1\u001b[0m\u001b[0;34m\u001b[0m\u001b[0;34m\u001b[0m\u001b[0m\n",
      "\u001b[0;31mTypeError\u001b[0m: random() takes no arguments (2 given)"
     ]
    }
   ],
   "source": [
    "import random\n",
    "hugeNumber = float(\"inf\")\n",
    "\n",
    "random.seed(6975)\n",
    "\n",
    "# T\n",
    "stages             = 10\n",
    "startInventory     = 0\n",
    "inventoryCapacity  = 40\n",
    "productionCapacity = 40\n",
    "\n",
    "setupCost    = 3.0\n",
    "variableCost = random.random() * 10 + 10\n",
    "holdingRate  = 0.5\n",
    "shortageRate = 2.1\n",
    "demand = \n",
    "# wtf is going on h\n",
    "demand = [-1000,2,2,2,2]    # The zero-th entry is unused here\n",
    "\n",
    "for i in range(stages):\n",
    "    demand.append(random.randint(0,20))\n",
    "    \n",
    "\n",
    "item_production = [[0 for i in range(inventoryCapacity+1)] for j in range(stages+1)]\n",
    "f = [[0 for i in range(inventoryCapacity+1)] for j in range(stages+2)]\n",
    "\n",
    "for t in range(stages,0,-1) :\n",
    "\n",
    "    for i in range(inventoryCapacity + 1) :\n",
    "  \n",
    "        # minProduction = max(0, demand[t] - i)\n",
    "        minProduction = 0\n",
    "        maxProduction = min(productionCapacity, inventoryCapacity - i + demand[t])\n",
    "    \n",
    "        value = hugeNumber\n",
    "\n",
    "        for p in range(minProduction, maxProduction+1):\n",
    "            productionCost = holdingCost = shortageCost = 0    \n",
    "            \n",
    "            j = i + p - demand[t]\n",
    "\n",
    "            # if there's a shortage, it means we carry forward 0 units.\n",
    "            if j < 0 :\n",
    "                j = 0\n",
    "\n",
    "            if p < demand[t] - i:\n",
    "                # incur shortage cost\n",
    "                shortageCost += shortageRate*(demand[t] - i - p)\n",
    "                holdingCost = 0\n",
    "                \n",
    "            elif p > demand[t] - i:\n",
    "                # j is the amount left over\n",
    "                holdingCost += holdingRate*(i + p - demand[t])\n",
    "                shortageCost = 0\n",
    "                \n",
    "            \n",
    "            productionCost = variableCost*p\n",
    "            if p > 0:\n",
    "                productionCost += setupCost\n",
    "            moveValue = holdingCost + shortageCost + productionCost + f[t+1][j]\n",
    "\n",
    "\n",
    "            if moveValue < value :\n",
    "                value = moveValue\n",
    "                bestMove = p\n",
    "      \n",
    "        # End of p loop\n",
    "        f[t][i] = value\n",
    "        item_production[t][i] = bestMove\n",
    "        #print(f)\n",
    "        # print(x)\n",
    "    \n",
    "    # End of i loop\n",
    "    print(f\"value: {value}\")\n",
    "    print(f\"bestMove {bestMove}\\n\\n\")    \n",
    "# End of t loop\n",
    "\n",
    "print(\"Optimal cost is \" + str(f[1][startInventory]))\n",
    "\n",
    "solutionString = \"Production amounts:\"\n",
    "i = startInventory\n",
    "for t in range(1,stages+1) :\n",
    "    if i < 0:\n",
    "        i = 0\n",
    "    #print(t)\n",
    "    solutionString += \" \" + str(item_production[t][i])\n",
    "    #print(solutionString)\n",
    "    i = i + item_production[t][i] - demand[t]\n",
    "\n",
    "print(solutionString)"
   ]
  },
  {
   "cell_type": "code",
   "execution_count": null,
   "metadata": {},
   "outputs": [],
   "source": []
  },
  {
   "cell_type": "code",
   "execution_count": null,
   "metadata": {},
   "outputs": [],
   "source": []
  },
  {
   "cell_type": "code",
   "execution_count": null,
   "metadata": {},
   "outputs": [],
   "source": []
  }
 ],
 "metadata": {
  "kernelspec": {
   "display_name": "Python 3",
   "language": "python",
   "name": "python3"
  },
  "language_info": {
   "codemirror_mode": {
    "name": "ipython",
    "version": 3
   },
   "file_extension": ".py",
   "mimetype": "text/x-python",
   "name": "python",
   "nbconvert_exporter": "python",
   "pygments_lexer": "ipython3",
   "version": "3.8.3"
  }
 },
 "nbformat": 4,
 "nbformat_minor": 4
}
