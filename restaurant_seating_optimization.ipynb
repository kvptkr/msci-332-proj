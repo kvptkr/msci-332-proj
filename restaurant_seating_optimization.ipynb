{
 "cells": [
  {
   "cell_type": "markdown",
   "metadata": {},
   "source": [
    "## Restaurant Seat Optimization\n",
    "\n",
    "\n",
    "\n",
    "\n",
    "#### Step 1: Import gurobipy module\n",
    "\n"
   ]
  },
  {
   "cell_type": "code",
   "execution_count": 11,
   "metadata": {},
   "outputs": [],
   "source": [
    "import gurobipy as gp\n",
    "from gurobipy import GRB\n",
    "import random"
   ]
  },
  {
   "cell_type": "markdown",
   "metadata": {},
   "source": [
    "#### Step 2: Define your model"
   ]
  },
  {
   "cell_type": "code",
   "execution_count": 12,
   "metadata": {},
   "outputs": [],
   "source": [
    "m = gp.Model()"
   ]
  },
  {
   "cell_type": "markdown",
   "metadata": {},
   "source": [
    "#### Step 3: Define your sets"
   ]
  },
  {
   "cell_type": "code",
   "execution_count": 13,
   "metadata": {},
   "outputs": [],
   "source": [
    "#number of parties at a timeslot\n",
    "I = 10\n",
    "\n",
    "#number of timeslots\n",
    "K = 7"
   ]
  },
  {
   "cell_type": "markdown",
   "metadata": {},
   "source": [
    "#### Step 4: Define your parameters"
   ]
  },
  {
   "cell_type": "code",
   "execution_count": 20,
   "metadata": {},
   "outputs": [],
   "source": [
    "#TODO: align on numbers for this, good candidate for sensitivity\n",
    "# width and length of the dining room, in m\n",
    "w = 1\n",
    "l = 1\n",
    "\n",
    "\n",
    "#initializing the party \n",
    "party_size = {}\n",
    "for i in range(I):\n",
    "    for k in range(K):\n",
    "        party_size[i, k] = random.randint(2,6)\n",
    "        #print(party_size[i,k])\n",
    "\n",
    "# the table mapping below represents\n",
    "# how many tables a specific party_size would require\n",
    "table_mapping = { \n",
    "    2: 1,\n",
    "    3: 2,\n",
    "    4: 2,\n",
    "    5: 3,\n",
    "    6: 3\n",
    "}\n",
    "\n",
    "# initializing the amount of space that each of the party sizes \n",
    "# would take up\n",
    "space = {}\n",
    "for i in range(I):\n",
    "    for k in range(K):\n",
    "        num_tables = table_mapping.get(party_size[i, k])\n",
    "        space[i, k] = 6 + 3 * num_tables"
   ]
  },
  {
   "cell_type": "markdown",
   "metadata": {},
   "source": [
    "#### Step 5: Define your decision variables"
   ]
  },
  {
   "cell_type": "code",
   "execution_count": 21,
   "metadata": {},
   "outputs": [],
   "source": [
    "# defining xik, whethere or not party i is seated at timeslot k\n",
    "x = {}\n",
    "for i in range(I):\n",
    "    for k in range(K):\n",
    "        x[i,k] = m.addVar(lb=0.0, obj=23.04*party_size[i,k], vtype=GRB.BINARY, name=\"x_\"+str(i)+str(k))\n",
    "        \n",
    "#defining bk, whether or not there is a social distancing violation at timeslot k\n",
    "b={}\n",
    "for k in range(K):\n",
    "    b[k] = m.addVar(lb=0.0, obj=-880, vtype=GRB.BINARY, name=\"b_\"+str(k))\n",
    "    \n",
    "# defining the piecewise function for revenue\n",
    "# model.setPWLObj()\n",
    "s = {}\n",
    "#defining space slack variable\n",
    "for k in range(K):\n",
    "    s[k] = m.addVar(lb=0.0, vtype=GRB.INTEGER, name=\"s_\"+str(k))\n",
    "\n",
    "#defining space excess variable\n",
    "e = {}\n",
    "for k in range(K):\n",
    "    e[k] = m.addVar(lb=0.0, vtype=GRB.INTEGER, name=\"e_\" + str(k))\n",
    "\n",
    "# #defining C\n",
    "# m.addVar(obj=-25000, vtype=GRB.BINARY, name=\"C\") "
   ]
  },
  {
   "cell_type": "markdown",
   "metadata": {},
   "source": [
    "#### Step 6: Set your objective function"
   ]
  },
  {
   "cell_type": "code",
   "execution_count": 22,
   "metadata": {},
   "outputs": [],
   "source": [
    "m.modelSense = GRB.MAXIMIZE"
   ]
  },
  {
   "cell_type": "markdown",
   "metadata": {},
   "source": [
    "#### Step 7: Add Constraints"
   ]
  },
  {
   "cell_type": "code",
   "execution_count": 38,
   "metadata": {},
   "outputs": [
    {
     "ename": "AttributeError",
     "evalue": "Unable to retrieve attribute 'X'",
     "output_type": "error",
     "traceback": [
      "\u001b[0;31m---------------------------------------------------------------------------\u001b[0m",
      "\u001b[0;31mAttributeError\u001b[0m                            Traceback (most recent call last)",
      "\u001b[0;32m<ipython-input-38-8098a389e5f1>\u001b[0m in \u001b[0;36m<module>\u001b[0;34m\u001b[0m\n\u001b[1;32m      4\u001b[0m     \u001b[0;32mfor\u001b[0m \u001b[0mi\u001b[0m \u001b[0;32min\u001b[0m \u001b[0mrange\u001b[0m\u001b[0;34m(\u001b[0m\u001b[0mI\u001b[0m\u001b[0;34m)\u001b[0m\u001b[0;34m:\u001b[0m\u001b[0;34m\u001b[0m\u001b[0;34m\u001b[0m\u001b[0m\n\u001b[1;32m      5\u001b[0m         \u001b[0;31m#print(running_sum)\u001b[0m\u001b[0;34m\u001b[0m\u001b[0;34m\u001b[0m\u001b[0;34m\u001b[0m\u001b[0m\n\u001b[0;32m----> 6\u001b[0;31m         \u001b[0mxik\u001b[0m \u001b[0;34m=\u001b[0m \u001b[0mm\u001b[0m\u001b[0;34m.\u001b[0m\u001b[0mgetVarByName\u001b[0m\u001b[0;34m(\u001b[0m\u001b[0;34m\"x_\"\u001b[0m\u001b[0;34m+\u001b[0m\u001b[0mstr\u001b[0m\u001b[0;34m(\u001b[0m\u001b[0mi\u001b[0m\u001b[0;34m)\u001b[0m \u001b[0;34m+\u001b[0m \u001b[0mstr\u001b[0m\u001b[0;34m(\u001b[0m\u001b[0mk\u001b[0m\u001b[0;34m)\u001b[0m\u001b[0;34m)\u001b[0m\u001b[0;34m.\u001b[0m\u001b[0mX\u001b[0m\u001b[0;34m\u001b[0m\u001b[0;34m\u001b[0m\u001b[0m\n\u001b[0m\u001b[1;32m      7\u001b[0m         \u001b[0mprint\u001b[0m\u001b[0;34m(\u001b[0m\u001b[0mxik\u001b[0m\u001b[0;34m)\u001b[0m\u001b[0;34m\u001b[0m\u001b[0;34m\u001b[0m\u001b[0m\n\u001b[1;32m      8\u001b[0m \u001b[0;31m#         spaceik = space[i,k]\u001b[0m\u001b[0;34m\u001b[0m\u001b[0;34m\u001b[0m\u001b[0;34m\u001b[0m\u001b[0m\n",
      "\u001b[0;32mvar.pxi\u001b[0m in \u001b[0;36mgurobipy.Var.__getattr__\u001b[0;34m()\u001b[0m\n",
      "\u001b[0;32mvar.pxi\u001b[0m in \u001b[0;36mgurobipy.Var.getAttr\u001b[0;34m()\u001b[0m\n",
      "\u001b[0;32mattrutil.pxi\u001b[0m in \u001b[0;36mgurobipy.__getattr\u001b[0;34m()\u001b[0m\n",
      "\u001b[0;31mAttributeError\u001b[0m: Unable to retrieve attribute 'X'"
     ]
    }
   ],
   "source": [
    "# defining space constraint\n",
    "for k in range(K):\n",
    "    running_sum = 0\n",
    "    for i in range(I):\n",
    "        #print(running_sum)\n",
    "        xik = m.getVarByName(\"x_\"+str(i) + str(k)).X\n",
    "        print(xik)\n",
    "#         spaceik = space[i,k]\n",
    "#         running_sum += index_sum.getValue()\n",
    "    print(running_sum)\n",
    "    m.addConstr((s[k] - e[k] + running_sum), GRB.EQUAL, l*w)\n",
    "\n",
    "print(f\"l={l}, w={w}\")\n",
    "    \n",
    "# defining the constraint that turns on the social distancing violated binary var\n",
    "for k in range(K):\n",
    "    m.addConstr(10**6*(1 - b[k]) + e[k], GRB.GREATER_EQUAL, 1)\n",
    "\n",
    "# defining the constraint that makes sure that if there are social distancing violations,\n",
    "# they take up at most 20% of the dining room\n",
    "for k in range(K):\n",
    "    m.addConstr(e[k], GRB.LESS_EQUAL, l * w * 0.2)\n",
    "    \n",
    "# defining the constraint that makes sure that each party only occupies one table\n",
    "for k in range(K):\n",
    "   # running_sum = 0;\n",
    "    for i in range(I):\n",
    "        #running_sum += x[i,k]\n",
    "        m.addConstr(x[i,k], GRB.LESS_EQUAL, 1)\n",
    "\n",
    "# for k in range(K):\n",
    "#     m.addConstr(s[k], GRB.LESS_EQUAL, l*w*0.2)\n",
    "    \n",
    "m.update()"
   ]
  },
  {
   "cell_type": "markdown",
   "metadata": {},
   "source": [
    "#### Step 8: Solve the model"
   ]
  },
  {
   "cell_type": "code",
   "execution_count": 24,
   "metadata": {},
   "outputs": [
    {
     "name": "stdout",
     "output_type": "stream",
     "text": [
      "Gurobi Optimizer version 9.0.1 build v9.0.1rc0 (mac64)\n",
      "Optimize a model with 182 rows, 182 columns and 350 nonzeros\n",
      "Model fingerprint: 0x22520153\n",
      "Variable types: 0 continuous, 182 integer (154 binary)\n",
      "Coefficient statistics:\n",
      "  Matrix range     [1e+00, 1e+06]\n",
      "  Objective range  [5e+01, 9e+02]\n",
      "  Bounds range     [1e+00, 1e+00]\n",
      "  RHS range        [2e-01, 1e+06]\n",
      "\n",
      "MIP start from previous solve produced solution with objective 6474.24 (0.01s)\n",
      "Loaded MIP start from previous solve with objective 6474.24\n",
      "\n",
      "Presolve removed 182 rows and 182 columns\n",
      "Presolve time: 0.00s\n",
      "Presolve: All rows and columns removed\n",
      "\n",
      "Explored 0 nodes (0 simplex iterations) in 0.01 seconds\n",
      "Thread count was 1 (of 8 available processors)\n",
      "\n",
      "Solution count 1: 6474.24 \n",
      "\n",
      "Optimal solution found (tolerance 1.00e-04)\n",
      "Best objective 6.474240000000e+03, best bound 6.474240000000e+03, gap 0.0000%\n"
     ]
    }
   ],
   "source": [
    "m.optimize()"
   ]
  },
  {
   "cell_type": "markdown",
   "metadata": {},
   "source": [
    "#### Step 8: Print variable values  (The Messy Way)"
   ]
  },
  {
   "cell_type": "code",
   "execution_count": 39,
   "metadata": {},
   "outputs": [
    {
     "name": "stdout",
     "output_type": "stream",
     "text": [
      "Printing result\n",
      "\n"
     ]
    },
    {
     "ename": "AttributeError",
     "evalue": "Unable to retrieve attribute 'objVal'",
     "output_type": "error",
     "traceback": [
      "\u001b[0;31m---------------------------------------------------------------------------\u001b[0m",
      "\u001b[0;31mAttributeError\u001b[0m                            Traceback (most recent call last)",
      "\u001b[0;32m<ipython-input-39-f66368352805>\u001b[0m in \u001b[0;36m<module>\u001b[0;34m\u001b[0m\n\u001b[1;32m      1\u001b[0m \u001b[0mprint\u001b[0m\u001b[0;34m(\u001b[0m\u001b[0;34m\"Printing result\\n\"\u001b[0m\u001b[0;34m)\u001b[0m\u001b[0;34m\u001b[0m\u001b[0;34m\u001b[0m\u001b[0m\n\u001b[0;32m----> 2\u001b[0;31m \u001b[0mprint\u001b[0m\u001b[0;34m(\u001b[0m\u001b[0;34m'\\nProfit: %g'\u001b[0m \u001b[0;34m%\u001b[0m \u001b[0mm\u001b[0m\u001b[0;34m.\u001b[0m\u001b[0mobjVal\u001b[0m\u001b[0;34m)\u001b[0m \u001b[0;31m#gets the objective function value\u001b[0m\u001b[0;34m\u001b[0m\u001b[0;34m\u001b[0m\u001b[0m\n\u001b[0m\u001b[1;32m      3\u001b[0m \u001b[0mprint\u001b[0m\u001b[0;34m(\u001b[0m\u001b[0;34m'\\nSOLUTION'\u001b[0m\u001b[0;34m)\u001b[0m\u001b[0;34m\u001b[0m\u001b[0;34m\u001b[0m\u001b[0m\n\u001b[1;32m      4\u001b[0m \u001b[0;32mfor\u001b[0m \u001b[0mmyVars\u001b[0m \u001b[0;32min\u001b[0m \u001b[0mm\u001b[0m\u001b[0;34m.\u001b[0m\u001b[0mgetVars\u001b[0m\u001b[0;34m(\u001b[0m\u001b[0;34m)\u001b[0m\u001b[0;34m:\u001b[0m\u001b[0;34m\u001b[0m\u001b[0;34m\u001b[0m\u001b[0m\n\u001b[1;32m      5\u001b[0m     \u001b[0mprint\u001b[0m\u001b[0;34m(\u001b[0m\u001b[0mmyVars\u001b[0m\u001b[0;34m)\u001b[0m\u001b[0;34m\u001b[0m\u001b[0;34m\u001b[0m\u001b[0m\n",
      "\u001b[0;32mmodel.pxi\u001b[0m in \u001b[0;36mgurobipy.Model.__getattr__\u001b[0;34m()\u001b[0m\n",
      "\u001b[0;32mmodel.pxi\u001b[0m in \u001b[0;36mgurobipy.Model.getAttr\u001b[0;34m()\u001b[0m\n",
      "\u001b[0;32mattrutil.pxi\u001b[0m in \u001b[0;36mgurobipy.__getattr\u001b[0;34m()\u001b[0m\n",
      "\u001b[0;31mAttributeError\u001b[0m: Unable to retrieve attribute 'objVal'"
     ]
    }
   ],
   "source": [
    "print(\"Printing result\\n\")\n",
    "print('\\nProfit: %g' % m.objVal) #gets the objective function value\n",
    "print('\\nSOLUTION')\n",
    "for myVars in m.getVars():\n",
    "    print(myVars)\n",
    "    print('%s %g' % (myVars.varName, myVars.x))"
   ]
  },
  {
   "cell_type": "code",
   "execution_count": 10,
   "metadata": {},
   "outputs": [],
   "source": [
    "m.write(\"checkModel.lp\")"
   ]
  },
  {
   "cell_type": "code",
   "execution_count": null,
   "metadata": {},
   "outputs": [],
   "source": []
  },
  {
   "cell_type": "code",
   "execution_count": null,
   "metadata": {},
   "outputs": [],
   "source": []
  },
  {
   "cell_type": "code",
   "execution_count": null,
   "metadata": {},
   "outputs": [],
   "source": []
  },
  {
   "cell_type": "code",
   "execution_count": null,
   "metadata": {},
   "outputs": [],
   "source": []
  }
 ],
 "metadata": {
  "kernelspec": {
   "display_name": "Python 3",
   "language": "python",
   "name": "python3"
  },
  "language_info": {
   "codemirror_mode": {
    "name": "ipython",
    "version": 3
   },
   "file_extension": ".py",
   "mimetype": "text/x-python",
   "name": "python",
   "nbconvert_exporter": "python",
   "pygments_lexer": "ipython3",
   "version": "3.8.3"
  }
 },
 "nbformat": 4,
 "nbformat_minor": 4
}
