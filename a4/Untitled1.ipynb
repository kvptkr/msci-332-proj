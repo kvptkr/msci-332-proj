{
 "cells": [
  {
   "cell_type": "code",
   "execution_count": 2,
   "metadata": {},
   "outputs": [
    {
     "name": "stdout",
     "output_type": "stream",
     "text": [
      "Optimal cost is 20.0\n",
      "Production amounts: 1 5 0 4\n",
      "[[ 0.   0.   0.   0.   0. ]\n",
      " [20.  16.  15.5 15.  13.5]\n",
      " [16.  15.  14.  12.  10.5]\n",
      " [12.  10.   7.   6.5  6. ]\n",
      " [ 7.   6.   5.   4.   0. ]\n",
      " [ 0.   0.   0.   0.   0. ]]\n",
      "[[0 0 0 0 0]\n",
      " [1 0 0 0 0]\n",
      " [5 4 3 0 0]\n",
      " [2 5 0 0 0]\n",
      " [4 3 2 1 0]]\n"
     ]
    }
   ],
   "source": [
    "# Python code for deterministic inventory by dynamic programming, with numpy\n",
    "\n",
    "import numpy\n",
    "\n",
    "hugeNumber = float(\"inf\")\n",
    "\n",
    "stages             = 4\n",
    "startInventory     = 0\n",
    "inventoryCapacity  = 4\n",
    "productionCapacity = 5\n",
    "\n",
    "setupCost    = 3.0\n",
    "variableCost = 1.0\n",
    "holdingCost  = 0.5\n",
    "\n",
    "demand = numpy.array([-1000,1,3,2,4])    # The zero-th entry is unused here\n",
    "\n",
    "f = numpy.zeros([stages + 2, inventoryCapacity + 1])\n",
    "x = numpy.zeros([stages + 1, inventoryCapacity + 1], dtype=int)\n",
    "\n",
    "for t in range(stages,0,-1) :\n",
    "\n",
    "    for i in range(inventoryCapacity + 1) :\n",
    "  \n",
    "        minProduction = max(0, demand[t] - i)\n",
    "        maxProduction = min(productionCapacity, inventoryCapacity - i + demand[t])\n",
    "    \n",
    "        value = hugeNumber\n",
    "\n",
    "        for p in range(minProduction, maxProduction+1) : \n",
    "    \n",
    "            j = i + p - demand[t]\n",
    "            productionCost = variableCost*p\n",
    "            if p > 0 :\n",
    "                productionCost += setupCost\n",
    "      \n",
    "            moveValue = holdingCost*j + productionCost + f[t+1,j]\n",
    "     \n",
    "            if moveValue < value :\n",
    "                value = moveValue\n",
    "                bestMove = p\n",
    "      \n",
    "        # End of p loop\n",
    "    \n",
    "        f[t,i] = value\n",
    "        x[t,i] = bestMove\n",
    "    \n",
    "    # End of i loop\n",
    "  \n",
    "# End of t loop\n",
    "\n",
    "print(\"Optimal cost is \" + str(f[1,startInventory]))\n",
    "\n",
    "solutionString = \"Production amounts:\"\n",
    "i = startInventory\n",
    "for t in range(1,stages+1) : \n",
    "    solutionString += \" \" + str(x[t,i])\n",
    "    i = i + x[t,i] - demand[t]\n",
    " \n",
    "print(solutionString)\n",
    "print(f)\n",
    "print(x)"
   ]
  },
  {
   "cell_type": "code",
   "execution_count": null,
   "metadata": {},
   "outputs": [],
   "source": []
  }
 ],
 "metadata": {
  "kernelspec": {
   "display_name": "Python 3",
   "language": "python",
   "name": "python3"
  },
  "language_info": {
   "codemirror_mode": {
    "name": "ipython",
    "version": 3
   },
   "file_extension": ".py",
   "mimetype": "text/x-python",
   "name": "python",
   "nbconvert_exporter": "python",
   "pygments_lexer": "ipython3",
   "version": "3.8.3"
  }
 },
 "nbformat": 4,
 "nbformat_minor": 4
}
